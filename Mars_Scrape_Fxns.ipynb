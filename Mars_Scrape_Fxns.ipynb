{
 "cells": [
  {
   "cell_type": "code",
   "execution_count": 1,
   "metadata": {},
   "outputs": [],
   "source": [
    "from bs4 import BeautifulSoup as bs\n",
    "import requests\n",
    "import os \n",
    "import pandas as pd \n",
    "from splinter import Browser"
   ]
  },
  {
   "cell_type": "code",
   "execution_count": 2,
   "metadata": {},
   "outputs": [],
   "source": [
    "def init_browser():\n",
    "    executable_path = {'executable_path': '/Users/michellefitzpatrick/CU-NYC-DATA-PT-10-2019-U-C1_All_Files/Classwork/chromedriver'}\n",
    "    return Browser('chrome', **executable_path, headless=False)"
   ]
  },
  {
   "cell_type": "code",
   "execution_count": 3,
   "metadata": {},
   "outputs": [],
   "source": [
    "mars_collection = {}"
   ]
  },
  {
   "cell_type": "code",
   "execution_count": 4,
   "metadata": {},
   "outputs": [],
   "source": [
    "def newsfxn():\n",
    "    browser = init_browser()\n",
    "\n",
    "    url = \"https://mars.nasa.gov/news/?page=0&per_page=40&order=publish_date+desc%2Ccreated_at+desc&search=&category=19%2C165%2C184%2C204&blank_scope=Latest\"\n",
    "\n",
    "#Retrieve page with requests module\n",
    "    response = requests.get(url)\n",
    "\n",
    "# Create BeautifulSoup object; parse with 'html.parser'\n",
    "    soup = bs(response.text, 'html.parser')\n",
    "\n",
    "#Latest news title\n",
    "    news_title = soup.find('div', class_='content_title').text\n",
    "    #Accompanying news blurb for latest title\n",
    "    news_blurb = soup.find('div', class_='rollover_description_inner').text\n",
    "\n",
    "#     mars_collection['news_title'] = news_title\n",
    "#     mars_collection['news_blurb'] = news_blurb\n",
    "    browser.quit()\n",
    "    \n",
    "    return news_title, news_blurb"
   ]
  },
  {
   "cell_type": "code",
   "execution_count": 5,
   "metadata": {},
   "outputs": [],
   "source": [
    "news_title, news_blurb = newsfxn()\n"
   ]
  },
  {
   "cell_type": "code",
   "execution_count": 7,
   "metadata": {},
   "outputs": [
    {
     "data": {
      "text/plain": [
       "'Robotic spacecraft will be able to communicate with the dish using radio waves and lasers.'"
      ]
     },
     "execution_count": 7,
     "metadata": {},
     "output_type": "execute_result"
    }
   ],
   "source": [
    "news_blurb.strip()"
   ]
  },
  {
   "cell_type": "code",
   "execution_count": null,
   "metadata": {},
   "outputs": [],
   "source": [
    "def imgfxn():\n",
    "    browser = init_browser()\n",
    "    nasaurl = 'https://www.jpl.nasa.gov'\n",
    "    url2 = 'https://www.jpl.nasa.gov/spaceimages/?search=&category=Mars'\n",
    "    browser.visit(url2)\n",
    "\n",
    "    html = browser.html\n",
    "\n",
    "    soup2 = bs(html, 'html.parser')\n",
    "\n",
    "    step1 = soup2.find('img', class_='thumb')\n",
    "    step2 = step1['src']\n",
    "    featured_image_url = f\"{nasaurl}\"+f\"{step2}\"\n",
    "    featured_image_url\n",
    "\n",
    "#     mars_collection['featured_image_url'] = featured_image_url\n",
    "    browser.quit()\n",
    "    return featured_image_url"
   ]
  },
  {
   "cell_type": "code",
   "execution_count": null,
   "metadata": {},
   "outputs": [],
   "source": [
    "imgfxn()"
   ]
  },
  {
   "cell_type": "code",
   "execution_count": 20,
   "metadata": {},
   "outputs": [],
   "source": [
    "def weatherfxn():\n",
    "    browser = init_browser()\n",
    "    weatherURL = 'https://twitter.com/MarsWxReport'\n",
    "    response = requests.get(weatherURL)\n",
    "    weathersoup = bs(response.text, \"html.parser\")\n",
    "    info = weathersoup.find(\"p\", class_=\"TweetTextSize\").text\n",
    "#     for tweet in info:\n",
    "#         mars_weather = tweet.find(\"p\").text\n",
    "#         if 'Sol' and 'pressure' in mars_weather:\n",
    "#             break\n",
    "#         else: \n",
    "#             pass\n",
    "#     mars_collection['mars_weather'] = mars_weather\n",
    "    browser.quit()\n",
    "    return info "
   ]
  },
  {
   "cell_type": "code",
   "execution_count": 21,
   "metadata": {},
   "outputs": [
    {
     "data": {
      "text/plain": [
       "'InSight sol 431 (2020-02-12) low -93.9ºC (-137.0ºF) high -11.9ºC (10.6ºF)\\nwinds from the W at 5.7 m/s (12.6 mph) gusting to 21.6 m/s (48.3 mph)\\npressure at 6.30 hPapic.twitter.com/tQzaZRv02G'"
      ]
     },
     "execution_count": 21,
     "metadata": {},
     "output_type": "execute_result"
    }
   ],
   "source": [
    "weatherfxn()\n"
   ]
  },
  {
   "cell_type": "code",
   "execution_count": 11,
   "metadata": {},
   "outputs": [],
   "source": [
    "def factsfxn():\n",
    "    browser = init_browser()\n",
    "\n",
    "    factsURL = 'https://space-facts.com/mars/'\n",
    "    browser.visit(factsURL)\n",
    "\n",
    "    tables = pd.read_html(factsURL)\n",
    "    df = tables[0]\n",
    "    df.columns = [\"Parameter\", \"Values\"]\n",
    "    html_table = df.to_html(table_id=\"html_tbl_css\",justify='left',index=False)\n",
    "\n",
    "#     mars_collection['tables'] = html_table\n",
    "    \n",
    "    browser.quit()\n",
    "    return html_table"
   ]
  },
  {
   "cell_type": "code",
   "execution_count": 12,
   "metadata": {},
   "outputs": [
    {
     "data": {
      "text/plain": [
       "'<table border=\"1\" class=\"dataframe\" id=\"html_tbl_css\">\\n  <thead>\\n    <tr style=\"text-align: left;\">\\n      <th>Parameter</th>\\n      <th>Values</th>\\n    </tr>\\n  </thead>\\n  <tbody>\\n    <tr>\\n      <td>Equatorial Diameter:</td>\\n      <td>6,792 km</td>\\n    </tr>\\n    <tr>\\n      <td>Polar Diameter:</td>\\n      <td>6,752 km</td>\\n    </tr>\\n    <tr>\\n      <td>Mass:</td>\\n      <td>6.39 × 10^23 kg (0.11 Earths)</td>\\n    </tr>\\n    <tr>\\n      <td>Moons:</td>\\n      <td>2 (Phobos &amp; Deimos)</td>\\n    </tr>\\n    <tr>\\n      <td>Orbit Distance:</td>\\n      <td>227,943,824 km (1.38 AU)</td>\\n    </tr>\\n    <tr>\\n      <td>Orbit Period:</td>\\n      <td>687 days (1.9 years)</td>\\n    </tr>\\n    <tr>\\n      <td>Surface Temperature:</td>\\n      <td>-87 to -5 °C</td>\\n    </tr>\\n    <tr>\\n      <td>First Record:</td>\\n      <td>2nd millennium BC</td>\\n    </tr>\\n    <tr>\\n      <td>Recorded By:</td>\\n      <td>Egyptian astronomers</td>\\n    </tr>\\n  </tbody>\\n</table>'"
      ]
     },
     "execution_count": 12,
     "metadata": {},
     "output_type": "execute_result"
    }
   ],
   "source": [
    "factsfxn()"
   ]
  },
  {
   "cell_type": "code",
   "execution_count": 18,
   "metadata": {},
   "outputs": [],
   "source": [
    "def hemisfxn():\n",
    "        browser = init_browser()\n",
    "\n",
    "        hemiURL = 'https://astrogeology.usgs.gov/search/results?q=hemisphere+enhanced&k1=target&v1=Mars'\n",
    "        browser.visit(hemiURL)\n",
    "\n",
    "        hemihtml = browser.html\n",
    "\n",
    "        hemisoup = bs(hemihtml, 'html.parser')\n",
    "        \n",
    "        s1 = hemisoup.find('img', class_='thumb')\n",
    "        s2 = s1.findNext('img', class_='thumb')\n",
    "        s3 = s2.findNext('img', class_='thumb')\n",
    "        s4 = s3.findNext('img', class_='thumb')\n",
    "        h = hemisoup.find('div', class_=\"description\")\n",
    "        t = h.a.text\n",
    "        title = t.replace(' Enhanced', '')\n",
    "        title\n",
    "\n",
    "        h2 = h.findNext('div', class_=\"description\")\n",
    "        t2 = h2.a.text\n",
    "        title2 = t2.replace(' Enhanced', '')\n",
    "        title2\n",
    "\n",
    "        h3 = h2.findNext('div', class_=\"description\")\n",
    "        t3 = h3.a.text\n",
    "        title3 = t3.replace(' Enhanced', '')\n",
    "        title3\n",
    "\n",
    "        h4 = h3.findNext('div', class_=\"description\")\n",
    "        t4 = h4.a.text\n",
    "        title4 = t4.replace(' Enhanced', '')\n",
    "        title4\n",
    "        \n",
    "        hemisphere_titles = [title, title2, title3, title4]\n",
    "\n",
    "        s1png = s1['src']\n",
    "        s2png = s2['src']\n",
    "        s3png = s3['src']\n",
    "        s4png = s4['src']\n",
    "\n",
    "        hemi_url1 = f\"{hemiURL}\"+f\"{s1png}\"\n",
    "        hemi_url2 = f\"{hemiURL}\"+f\"{s2png}\"\n",
    "        hemi_url3 = f\"{hemiURL}\"+f\"{s3png}\"\n",
    "        hemi_url4 = f\"{hemiURL}\"+f\"{s4png}\"\n",
    "\n",
    "        url_title = {'title': title, 'url': hemi_url1}\n",
    "        url_title2 = {'title': title2, 'url': hemi_url2}\n",
    "        url_title3 = {'title': title3, 'url': hemi_url3}\n",
    "        url_title4 = {'title': title4, 'url': hemi_url4}\n",
    "\n",
    "        hemisphere_urls_wtitle = [url_title, url_title2, url_title3, url_title4]\n",
    "\n",
    "#         mars_collection['mars_hemis'] = hemisphere_urls_wtitle\n",
    "        browser.quit()\n",
    "        return hemisphere_urls_wtitle "
   ]
  },
  {
   "cell_type": "code",
   "execution_count": 19,
   "metadata": {},
   "outputs": [
    {
     "data": {
      "text/plain": [
       "[{'title': 'Cerberus Hemisphere',\n",
       "  'url': 'https://astrogeology.usgs.gov/search/results?q=hemisphere+enhanced&k1=target&v1=Mars/cache/images/dfaf3849e74bf973b59eb50dab52b583_cerberus_enhanced.tif_thumb.png'},\n",
       " {'title': 'Schiaparelli Hemisphere',\n",
       "  'url': 'https://astrogeology.usgs.gov/search/results?q=hemisphere+enhanced&k1=target&v1=Mars/cache/images/7677c0a006b83871b5a2f66985ab5857_schiaparelli_enhanced.tif_thumb.png'},\n",
       " {'title': 'Syrtis Major Hemisphere',\n",
       "  'url': 'https://astrogeology.usgs.gov/search/results?q=hemisphere+enhanced&k1=target&v1=Mars/cache/images/aae41197e40d6d4f3ea557f8cfe51d15_syrtis_major_enhanced.tif_thumb.png'},\n",
       " {'title': 'Valles Marineris Hemisphere',\n",
       "  'url': 'https://astrogeology.usgs.gov/search/results?q=hemisphere+enhanced&k1=target&v1=Mars/cache/images/04085d99ec3713883a9a57f42be9c725_valles_marineris_enhanced.tif_thumb.png'}]"
      ]
     },
     "execution_count": 19,
     "metadata": {},
     "output_type": "execute_result"
    }
   ],
   "source": [
    "hemisfxn()"
   ]
  },
  {
   "cell_type": "code",
   "execution_count": null,
   "metadata": {},
   "outputs": [],
   "source": []
  }
 ],
 "metadata": {
  "kernelspec": {
   "display_name": "Python 3",
   "language": "python",
   "name": "python3"
  },
  "language_info": {
   "codemirror_mode": {
    "name": "ipython",
    "version": 3
   },
   "file_extension": ".py",
   "mimetype": "text/x-python",
   "name": "python",
   "nbconvert_exporter": "python",
   "pygments_lexer": "ipython3",
   "version": "3.7.3"
  }
 },
 "nbformat": 4,
 "nbformat_minor": 2
}
